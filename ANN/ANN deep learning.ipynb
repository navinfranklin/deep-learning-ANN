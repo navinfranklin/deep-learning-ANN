{
 "cells": [
  {
   "cell_type": "markdown",
   "metadata": {},
   "source": [
    "# ANN "
   ]
  },
  {
   "cell_type": "code",
   "execution_count": 1,
   "metadata": {},
   "outputs": [],
   "source": [
    "import numpy as np\n",
    "import matplotlib.pyplot as plt\n",
    "import pandas as pd"
   ]
  },
  {
   "cell_type": "markdown",
   "metadata": {},
   "source": [
    "# importing dataset"
   ]
  },
  {
   "cell_type": "code",
   "execution_count": 21,
   "metadata": {},
   "outputs": [],
   "source": [
    "dataset = pd.read_csv('D:\\worked programs\\ANN\\Churn_Modelling.csv')"
   ]
  },
  {
   "cell_type": "code",
   "execution_count": 23,
   "metadata": {},
   "outputs": [
    {
     "data": {
      "text/html": [
       "<div>\n",
       "<style scoped>\n",
       "    .dataframe tbody tr th:only-of-type {\n",
       "        vertical-align: middle;\n",
       "    }\n",
       "\n",
       "    .dataframe tbody tr th {\n",
       "        vertical-align: top;\n",
       "    }\n",
       "\n",
       "    .dataframe thead th {\n",
       "        text-align: right;\n",
       "    }\n",
       "</style>\n",
       "<table border=\"1\" class=\"dataframe\">\n",
       "  <thead>\n",
       "    <tr style=\"text-align: right;\">\n",
       "      <th></th>\n",
       "      <th>RowNumber</th>\n",
       "      <th>CustomerId</th>\n",
       "      <th>Surname</th>\n",
       "      <th>CreditScore</th>\n",
       "      <th>Geography</th>\n",
       "      <th>Gender</th>\n",
       "      <th>Age</th>\n",
       "      <th>Tenure</th>\n",
       "      <th>Balance</th>\n",
       "      <th>NumOfProducts</th>\n",
       "      <th>HasCrCard</th>\n",
       "      <th>IsActiveMember</th>\n",
       "      <th>EstimatedSalary</th>\n",
       "      <th>Exited</th>\n",
       "    </tr>\n",
       "  </thead>\n",
       "  <tbody>\n",
       "    <tr>\n",
       "      <th>0</th>\n",
       "      <td>1</td>\n",
       "      <td>15634602</td>\n",
       "      <td>Hargrave</td>\n",
       "      <td>619</td>\n",
       "      <td>France</td>\n",
       "      <td>Female</td>\n",
       "      <td>42</td>\n",
       "      <td>2</td>\n",
       "      <td>0.00</td>\n",
       "      <td>1</td>\n",
       "      <td>1</td>\n",
       "      <td>1</td>\n",
       "      <td>101348.88</td>\n",
       "      <td>1</td>\n",
       "    </tr>\n",
       "    <tr>\n",
       "      <th>1</th>\n",
       "      <td>2</td>\n",
       "      <td>15647311</td>\n",
       "      <td>Hill</td>\n",
       "      <td>608</td>\n",
       "      <td>Spain</td>\n",
       "      <td>Female</td>\n",
       "      <td>41</td>\n",
       "      <td>1</td>\n",
       "      <td>83807.86</td>\n",
       "      <td>1</td>\n",
       "      <td>0</td>\n",
       "      <td>1</td>\n",
       "      <td>112542.58</td>\n",
       "      <td>0</td>\n",
       "    </tr>\n",
       "    <tr>\n",
       "      <th>2</th>\n",
       "      <td>3</td>\n",
       "      <td>15619304</td>\n",
       "      <td>Onio</td>\n",
       "      <td>502</td>\n",
       "      <td>France</td>\n",
       "      <td>Female</td>\n",
       "      <td>42</td>\n",
       "      <td>8</td>\n",
       "      <td>159660.80</td>\n",
       "      <td>3</td>\n",
       "      <td>1</td>\n",
       "      <td>0</td>\n",
       "      <td>113931.57</td>\n",
       "      <td>1</td>\n",
       "    </tr>\n",
       "    <tr>\n",
       "      <th>3</th>\n",
       "      <td>4</td>\n",
       "      <td>15701354</td>\n",
       "      <td>Boni</td>\n",
       "      <td>699</td>\n",
       "      <td>France</td>\n",
       "      <td>Female</td>\n",
       "      <td>39</td>\n",
       "      <td>1</td>\n",
       "      <td>0.00</td>\n",
       "      <td>2</td>\n",
       "      <td>0</td>\n",
       "      <td>0</td>\n",
       "      <td>93826.63</td>\n",
       "      <td>0</td>\n",
       "    </tr>\n",
       "    <tr>\n",
       "      <th>4</th>\n",
       "      <td>5</td>\n",
       "      <td>15737888</td>\n",
       "      <td>Mitchell</td>\n",
       "      <td>850</td>\n",
       "      <td>Spain</td>\n",
       "      <td>Female</td>\n",
       "      <td>43</td>\n",
       "      <td>2</td>\n",
       "      <td>125510.82</td>\n",
       "      <td>1</td>\n",
       "      <td>1</td>\n",
       "      <td>1</td>\n",
       "      <td>79084.10</td>\n",
       "      <td>0</td>\n",
       "    </tr>\n",
       "    <tr>\n",
       "      <th>...</th>\n",
       "      <td>...</td>\n",
       "      <td>...</td>\n",
       "      <td>...</td>\n",
       "      <td>...</td>\n",
       "      <td>...</td>\n",
       "      <td>...</td>\n",
       "      <td>...</td>\n",
       "      <td>...</td>\n",
       "      <td>...</td>\n",
       "      <td>...</td>\n",
       "      <td>...</td>\n",
       "      <td>...</td>\n",
       "      <td>...</td>\n",
       "      <td>...</td>\n",
       "    </tr>\n",
       "    <tr>\n",
       "      <th>9995</th>\n",
       "      <td>9996</td>\n",
       "      <td>15606229</td>\n",
       "      <td>Obijiaku</td>\n",
       "      <td>771</td>\n",
       "      <td>France</td>\n",
       "      <td>Male</td>\n",
       "      <td>39</td>\n",
       "      <td>5</td>\n",
       "      <td>0.00</td>\n",
       "      <td>2</td>\n",
       "      <td>1</td>\n",
       "      <td>0</td>\n",
       "      <td>96270.64</td>\n",
       "      <td>0</td>\n",
       "    </tr>\n",
       "    <tr>\n",
       "      <th>9996</th>\n",
       "      <td>9997</td>\n",
       "      <td>15569892</td>\n",
       "      <td>Johnstone</td>\n",
       "      <td>516</td>\n",
       "      <td>France</td>\n",
       "      <td>Male</td>\n",
       "      <td>35</td>\n",
       "      <td>10</td>\n",
       "      <td>57369.61</td>\n",
       "      <td>1</td>\n",
       "      <td>1</td>\n",
       "      <td>1</td>\n",
       "      <td>101699.77</td>\n",
       "      <td>0</td>\n",
       "    </tr>\n",
       "    <tr>\n",
       "      <th>9997</th>\n",
       "      <td>9998</td>\n",
       "      <td>15584532</td>\n",
       "      <td>Liu</td>\n",
       "      <td>709</td>\n",
       "      <td>France</td>\n",
       "      <td>Female</td>\n",
       "      <td>36</td>\n",
       "      <td>7</td>\n",
       "      <td>0.00</td>\n",
       "      <td>1</td>\n",
       "      <td>0</td>\n",
       "      <td>1</td>\n",
       "      <td>42085.58</td>\n",
       "      <td>1</td>\n",
       "    </tr>\n",
       "    <tr>\n",
       "      <th>9998</th>\n",
       "      <td>9999</td>\n",
       "      <td>15682355</td>\n",
       "      <td>Sabbatini</td>\n",
       "      <td>772</td>\n",
       "      <td>Germany</td>\n",
       "      <td>Male</td>\n",
       "      <td>42</td>\n",
       "      <td>3</td>\n",
       "      <td>75075.31</td>\n",
       "      <td>2</td>\n",
       "      <td>1</td>\n",
       "      <td>0</td>\n",
       "      <td>92888.52</td>\n",
       "      <td>1</td>\n",
       "    </tr>\n",
       "    <tr>\n",
       "      <th>9999</th>\n",
       "      <td>10000</td>\n",
       "      <td>15628319</td>\n",
       "      <td>Walker</td>\n",
       "      <td>792</td>\n",
       "      <td>France</td>\n",
       "      <td>Female</td>\n",
       "      <td>28</td>\n",
       "      <td>4</td>\n",
       "      <td>130142.79</td>\n",
       "      <td>1</td>\n",
       "      <td>1</td>\n",
       "      <td>0</td>\n",
       "      <td>38190.78</td>\n",
       "      <td>0</td>\n",
       "    </tr>\n",
       "  </tbody>\n",
       "</table>\n",
       "<p>10000 rows × 14 columns</p>\n",
       "</div>"
      ],
      "text/plain": [
       "      RowNumber  CustomerId    Surname  CreditScore Geography  Gender  Age  \\\n",
       "0             1    15634602   Hargrave          619    France  Female   42   \n",
       "1             2    15647311       Hill          608     Spain  Female   41   \n",
       "2             3    15619304       Onio          502    France  Female   42   \n",
       "3             4    15701354       Boni          699    France  Female   39   \n",
       "4             5    15737888   Mitchell          850     Spain  Female   43   \n",
       "...         ...         ...        ...          ...       ...     ...  ...   \n",
       "9995       9996    15606229   Obijiaku          771    France    Male   39   \n",
       "9996       9997    15569892  Johnstone          516    France    Male   35   \n",
       "9997       9998    15584532        Liu          709    France  Female   36   \n",
       "9998       9999    15682355  Sabbatini          772   Germany    Male   42   \n",
       "9999      10000    15628319     Walker          792    France  Female   28   \n",
       "\n",
       "      Tenure    Balance  NumOfProducts  HasCrCard  IsActiveMember  \\\n",
       "0          2       0.00              1          1               1   \n",
       "1          1   83807.86              1          0               1   \n",
       "2          8  159660.80              3          1               0   \n",
       "3          1       0.00              2          0               0   \n",
       "4          2  125510.82              1          1               1   \n",
       "...      ...        ...            ...        ...             ...   \n",
       "9995       5       0.00              2          1               0   \n",
       "9996      10   57369.61              1          1               1   \n",
       "9997       7       0.00              1          0               1   \n",
       "9998       3   75075.31              2          1               0   \n",
       "9999       4  130142.79              1          1               0   \n",
       "\n",
       "      EstimatedSalary  Exited  \n",
       "0           101348.88       1  \n",
       "1           112542.58       0  \n",
       "2           113931.57       1  \n",
       "3            93826.63       0  \n",
       "4            79084.10       0  \n",
       "...               ...     ...  \n",
       "9995         96270.64       0  \n",
       "9996        101699.77       0  \n",
       "9997         42085.58       1  \n",
       "9998         92888.52       1  \n",
       "9999         38190.78       0  \n",
       "\n",
       "[10000 rows x 14 columns]"
      ]
     },
     "execution_count": 23,
     "metadata": {},
     "output_type": "execute_result"
    }
   ],
   "source": [
    "dataset"
   ]
  },
  {
   "cell_type": "code",
   "execution_count": 22,
   "metadata": {},
   "outputs": [],
   "source": [
    "X = dataset.iloc[:, 3:13]\n",
    "y = dataset.iloc[:, 13]"
   ]
  },
  {
   "cell_type": "markdown",
   "metadata": {},
   "source": [
    "# Create dummy variables"
   ]
  },
  {
   "cell_type": "code",
   "execution_count": 3,
   "metadata": {},
   "outputs": [],
   "source": [
    "geography=pd.get_dummies(X[\"Geography\"],drop_first=True)\n",
    "gender=pd.get_dummies(X['Gender'],drop_first=True)"
   ]
  },
  {
   "cell_type": "markdown",
   "metadata": {},
   "source": [
    "# Concatenate the Data Frames"
   ]
  },
  {
   "cell_type": "code",
   "execution_count": 4,
   "metadata": {},
   "outputs": [],
   "source": [
    "X=pd.concat([X,geography,gender],axis=1)"
   ]
  },
  {
   "cell_type": "markdown",
   "metadata": {},
   "source": [
    "# Drop Unnecessary columns"
   ]
  },
  {
   "cell_type": "code",
   "execution_count": 5,
   "metadata": {},
   "outputs": [],
   "source": [
    "X=X.drop(['Geography','Gender'],axis=1)"
   ]
  },
  {
   "cell_type": "markdown",
   "metadata": {},
   "source": [
    "# Splitting the dataset into the Training set and Test set"
   ]
  },
  {
   "cell_type": "code",
   "execution_count": 6,
   "metadata": {},
   "outputs": [],
   "source": [
    "from sklearn.model_selection import train_test_split\n",
    "X_train, X_test, y_train, y_test = train_test_split(X, y, test_size = 0.2, random_state = 0)"
   ]
  },
  {
   "cell_type": "markdown",
   "metadata": {},
   "source": [
    "# Feature Scaling"
   ]
  },
  {
   "cell_type": "code",
   "execution_count": 8,
   "metadata": {},
   "outputs": [],
   "source": [
    "from sklearn.preprocessing import StandardScaler\n",
    "sc = StandardScaler()\n",
    "X_train = sc.fit_transform(X_train)\n",
    "X_test = sc.transform(X_test)"
   ]
  },
  {
   "cell_type": "markdown",
   "metadata": {},
   "source": [
    "# now we are creating ANN for that now we are Importing the Keras libraries and packages"
   ]
  },
  {
   "cell_type": "code",
   "execution_count": 9,
   "metadata": {},
   "outputs": [
    {
     "name": "stderr",
     "output_type": "stream",
     "text": [
      "Using TensorFlow backend.\n"
     ]
    }
   ],
   "source": [
    "import keras\n",
    "from keras.models import Sequential\n",
    "from keras.layers import Dense\n",
    "from keras.layers import LeakyReLU,PReLU,ELU\n",
    "from keras.layers import Dropout"
   ]
  },
  {
   "cell_type": "markdown",
   "metadata": {},
   "source": [
    "# Initialising the ANN"
   ]
  },
  {
   "cell_type": "code",
   "execution_count": 10,
   "metadata": {},
   "outputs": [],
   "source": [
    "classifier = Sequential()"
   ]
  },
  {
   "cell_type": "markdown",
   "metadata": {},
   "source": [
    "# Adding the input layer and the first hidden layer,second hidden layer and output layer"
   ]
  },
  {
   "cell_type": "code",
   "execution_count": 11,
   "metadata": {},
   "outputs": [
    {
     "name": "stderr",
     "output_type": "stream",
     "text": [
      "D:\\python\\envs\\AsusEnv\\lib\\site-packages\\ipykernel_launcher.py:1: UserWarning: Update your `Dense` call to the Keras 2 API: `Dense(activation=\"relu\", input_dim=11, units=6, kernel_initializer=\"he_uniform\")`\n",
      "  \"\"\"Entry point for launching an IPython kernel.\n",
      "D:\\python\\envs\\AsusEnv\\lib\\site-packages\\ipykernel_launcher.py:2: UserWarning: Update your `Dense` call to the Keras 2 API: `Dense(activation=\"relu\", units=6, kernel_initializer=\"he_uniform\")`\n",
      "  \n",
      "D:\\python\\envs\\AsusEnv\\lib\\site-packages\\ipykernel_launcher.py:3: UserWarning: Update your `Dense` call to the Keras 2 API: `Dense(activation=\"sigmoid\", units=1, kernel_initializer=\"glorot_uniform\")`\n",
      "  This is separate from the ipykernel package so we can avoid doing imports until\n"
     ]
    }
   ],
   "source": [
    "classifier.add(Dense(output_dim = 6, init = 'he_uniform',activation='relu',input_dim = 11))\n",
    "classifier.add(Dense(output_dim = 6, init = 'he_uniform',activation='relu'))\n",
    "classifier.add(Dense(output_dim = 1, init = 'glorot_uniform', activation = 'sigmoid'))"
   ]
  },
  {
   "cell_type": "markdown",
   "metadata": {},
   "source": [
    "# Compiling the ANN"
   ]
  },
  {
   "cell_type": "code",
   "execution_count": 12,
   "metadata": {},
   "outputs": [],
   "source": [
    "classifier.compile(optimizer = 'Adamax', loss = 'binary_crossentropy', metrics = ['accuracy'])"
   ]
  },
  {
   "cell_type": "markdown",
   "metadata": {},
   "source": [
    "# Fitting the ANN to the Training set"
   ]
  },
  {
   "cell_type": "code",
   "execution_count": 13,
   "metadata": {},
   "outputs": [
    {
     "name": "stderr",
     "output_type": "stream",
     "text": [
      "D:\\python\\envs\\AsusEnv\\lib\\site-packages\\ipykernel_launcher.py:1: UserWarning: The `nb_epoch` argument in `fit` has been renamed `epochs`.\n",
      "  \"\"\"Entry point for launching an IPython kernel.\n"
     ]
    },
    {
     "name": "stdout",
     "output_type": "stream",
     "text": [
      "Train on 5359 samples, validate on 2641 samples\n",
      "Epoch 1/100\n",
      "5359/5359 [==============================] - 9s 2ms/step - loss: 0.5176 - accuracy: 0.7912 - val_loss: 0.4906 - val_accuracy: 0.7955\n",
      "Epoch 2/100\n",
      "5359/5359 [==============================] - 7s 1ms/step - loss: 0.4775 - accuracy: 0.7962 - val_loss: 0.4713 - val_accuracy: 0.7955\n",
      "Epoch 3/100\n",
      "5359/5359 [==============================] - 7s 1ms/step - loss: 0.4615 - accuracy: 0.7962 - val_loss: 0.4603 - val_accuracy: 0.7955\n",
      "Epoch 4/100\n",
      "5359/5359 [==============================] - 7s 1ms/step - loss: 0.4514 - accuracy: 0.7974 - val_loss: 0.4529 - val_accuracy: 0.7955\n",
      "Epoch 5/100\n",
      "5359/5359 [==============================] - 7s 1ms/step - loss: 0.4430 - accuracy: 0.7998 - val_loss: 0.4481 - val_accuracy: 0.7944\n",
      "Epoch 6/100\n",
      "5359/5359 [==============================] - 7s 1ms/step - loss: 0.4367 - accuracy: 0.8016 - val_loss: 0.4446 - val_accuracy: 0.7970\n",
      "Epoch 7/100\n",
      "5359/5359 [==============================] - 7s 1ms/step - loss: 0.4317 - accuracy: 0.8072 - val_loss: 0.4413 - val_accuracy: 0.7952\n",
      "Epoch 8/100\n",
      "5359/5359 [==============================] - 7s 1ms/step - loss: 0.4270 - accuracy: 0.8108 - val_loss: 0.4393 - val_accuracy: 0.8016\n",
      "Epoch 9/100\n",
      "5359/5359 [==============================] - 7s 1ms/step - loss: 0.4236 - accuracy: 0.8117 - val_loss: 0.4374 - val_accuracy: 0.8005\n",
      "Epoch 10/100\n",
      "5359/5359 [==============================] - 7s 1ms/step - loss: 0.4202 - accuracy: 0.8130 - val_loss: 0.4361 - val_accuracy: 0.8005\n",
      "Epoch 11/100\n",
      "5359/5359 [==============================] - 7s 1ms/step - loss: 0.4164 - accuracy: 0.8162 - val_loss: 0.4348 - val_accuracy: 0.8005\n",
      "Epoch 12/100\n",
      "5359/5359 [==============================] - 7s 1ms/step - loss: 0.4128 - accuracy: 0.8171 - val_loss: 0.4319 - val_accuracy: 0.8039\n",
      "Epoch 13/100\n",
      "5359/5359 [==============================] - 7s 1ms/step - loss: 0.4089 - accuracy: 0.8205 - val_loss: 0.4296 - val_accuracy: 0.8058\n",
      "Epoch 14/100\n",
      "5359/5359 [==============================] - 7s 1ms/step - loss: 0.4052 - accuracy: 0.8238 - val_loss: 0.4261 - val_accuracy: 0.8065\n",
      "Epoch 15/100\n",
      "5359/5359 [==============================] - 7s 1ms/step - loss: 0.4007 - accuracy: 0.8278 - val_loss: 0.4230 - val_accuracy: 0.8103\n",
      "Epoch 16/100\n",
      "5359/5359 [==============================] - 7s 1ms/step - loss: 0.3959 - accuracy: 0.8311 - val_loss: 0.4193 - val_accuracy: 0.8152\n",
      "Epoch 17/100\n",
      "5359/5359 [==============================] - 7s 1ms/step - loss: 0.3907 - accuracy: 0.8347 - val_loss: 0.4146 - val_accuracy: 0.8186\n",
      "Epoch 18/100\n",
      "5359/5359 [==============================] - 7s 1ms/step - loss: 0.3857 - accuracy: 0.8391 - val_loss: 0.4095 - val_accuracy: 0.8232\n",
      "Epoch 19/100\n",
      "5359/5359 [==============================] - 7s 1ms/step - loss: 0.3801 - accuracy: 0.8444 - val_loss: 0.4045 - val_accuracy: 0.8281\n",
      "Epoch 20/100\n",
      "5359/5359 [==============================] - 7s 1ms/step - loss: 0.3749 - accuracy: 0.8457 - val_loss: 0.3991 - val_accuracy: 0.8319\n",
      "Epoch 21/100\n",
      "5359/5359 [==============================] - 7s 1ms/step - loss: 0.3697 - accuracy: 0.8500 - val_loss: 0.3951 - val_accuracy: 0.8345\n",
      "Epoch 22/100\n",
      "5359/5359 [==============================] - 7s 1ms/step - loss: 0.3657 - accuracy: 0.8522 - val_loss: 0.3901 - val_accuracy: 0.8391\n",
      "Epoch 23/100\n",
      "5359/5359 [==============================] - 7s 1ms/step - loss: 0.3621 - accuracy: 0.8533 - val_loss: 0.3872 - val_accuracy: 0.8425\n",
      "Epoch 24/100\n",
      "5359/5359 [==============================] - 7s 1ms/step - loss: 0.3590 - accuracy: 0.8558 - val_loss: 0.3845 - val_accuracy: 0.8417\n",
      "Epoch 25/100\n",
      "5359/5359 [==============================] - 7s 1ms/step - loss: 0.3565 - accuracy: 0.8554 - val_loss: 0.3824 - val_accuracy: 0.8421\n",
      "Epoch 26/100\n",
      "5359/5359 [==============================] - 7s 1ms/step - loss: 0.3546 - accuracy: 0.8578 - val_loss: 0.3811 - val_accuracy: 0.8429\n",
      "Epoch 27/100\n",
      "5359/5359 [==============================] - 7s 1ms/step - loss: 0.3533 - accuracy: 0.8572 - val_loss: 0.3792 - val_accuracy: 0.8425\n",
      "Epoch 28/100\n",
      "5359/5359 [==============================] - 7s 1ms/step - loss: 0.3514 - accuracy: 0.8565 - val_loss: 0.3776 - val_accuracy: 0.8459\n",
      "Epoch 29/100\n",
      "5359/5359 [==============================] - 7s 1ms/step - loss: 0.3504 - accuracy: 0.8578 - val_loss: 0.3761 - val_accuracy: 0.8459\n",
      "Epoch 30/100\n",
      "5359/5359 [==============================] - 7s 1ms/step - loss: 0.3492 - accuracy: 0.8584 - val_loss: 0.3753 - val_accuracy: 0.8455\n",
      "Epoch 31/100\n",
      "5359/5359 [==============================] - 7s 1ms/step - loss: 0.3480 - accuracy: 0.8572 - val_loss: 0.3753 - val_accuracy: 0.8459\n",
      "Epoch 32/100\n",
      "5359/5359 [==============================] - 7s 1ms/step - loss: 0.3470 - accuracy: 0.8589 - val_loss: 0.3755 - val_accuracy: 0.8466\n",
      "Epoch 33/100\n",
      "5359/5359 [==============================] - 7s 1ms/step - loss: 0.3471 - accuracy: 0.8589 - val_loss: 0.3746 - val_accuracy: 0.8440\n",
      "Epoch 34/100\n",
      "5359/5359 [==============================] - 7s 1ms/step - loss: 0.3462 - accuracy: 0.8584 - val_loss: 0.3738 - val_accuracy: 0.8451\n",
      "Epoch 35/100\n",
      "5359/5359 [==============================] - 7s 1ms/step - loss: 0.3461 - accuracy: 0.8586 - val_loss: 0.3738 - val_accuracy: 0.8451\n",
      "Epoch 36/100\n",
      "5359/5359 [==============================] - 7s 1ms/step - loss: 0.3454 - accuracy: 0.8580 - val_loss: 0.3735 - val_accuracy: 0.8448\n",
      "Epoch 37/100\n",
      "5359/5359 [==============================] - 8s 1ms/step - loss: 0.3451 - accuracy: 0.8599 - val_loss: 0.3732 - val_accuracy: 0.8459\n",
      "Epoch 38/100\n",
      "5359/5359 [==============================] - 7s 1ms/step - loss: 0.3448 - accuracy: 0.8584 - val_loss: 0.3731 - val_accuracy: 0.8444\n",
      "Epoch 39/100\n",
      "5359/5359 [==============================] - 7s 1ms/step - loss: 0.3443 - accuracy: 0.8586 - val_loss: 0.3732 - val_accuracy: 0.8444\n",
      "Epoch 40/100\n",
      "5359/5359 [==============================] - 7s 1ms/step - loss: 0.3441 - accuracy: 0.8586 - val_loss: 0.3726 - val_accuracy: 0.8440\n",
      "Epoch 41/100\n",
      "5359/5359 [==============================] - 7s 1ms/step - loss: 0.3437 - accuracy: 0.8578 - val_loss: 0.3730 - val_accuracy: 0.8429\n",
      "Epoch 42/100\n",
      "5359/5359 [==============================] - 7s 1ms/step - loss: 0.3435 - accuracy: 0.8571 - val_loss: 0.3726 - val_accuracy: 0.8429\n",
      "Epoch 43/100\n",
      "5359/5359 [==============================] - 7s 1ms/step - loss: 0.3431 - accuracy: 0.8586 - val_loss: 0.3727 - val_accuracy: 0.8432\n",
      "Epoch 44/100\n",
      "5359/5359 [==============================] - 7s 1ms/step - loss: 0.3429 - accuracy: 0.8582 - val_loss: 0.3725 - val_accuracy: 0.8440\n",
      "Epoch 45/100\n",
      "5359/5359 [==============================] - 7s 1ms/step - loss: 0.3426 - accuracy: 0.8578 - val_loss: 0.3722 - val_accuracy: 0.8440\n",
      "Epoch 46/100\n",
      "5359/5359 [==============================] - 7s 1ms/step - loss: 0.3422 - accuracy: 0.8584 - val_loss: 0.3721 - val_accuracy: 0.8455\n",
      "Epoch 47/100\n",
      "5359/5359 [==============================] - 7s 1ms/step - loss: 0.3420 - accuracy: 0.8584 - val_loss: 0.3721 - val_accuracy: 0.8455\n",
      "Epoch 48/100\n",
      "5359/5359 [==============================] - 7s 1ms/step - loss: 0.3419 - accuracy: 0.8578 - val_loss: 0.3721 - val_accuracy: 0.8448\n",
      "Epoch 49/100\n",
      "5359/5359 [==============================] - 7s 1ms/step - loss: 0.3418 - accuracy: 0.8584 - val_loss: 0.3715 - val_accuracy: 0.8466\n",
      "Epoch 50/100\n",
      "5359/5359 [==============================] - 7s 1ms/step - loss: 0.3412 - accuracy: 0.8567 - val_loss: 0.3718 - val_accuracy: 0.8436\n",
      "Epoch 51/100\n",
      "5359/5359 [==============================] - 7s 1ms/step - loss: 0.3410 - accuracy: 0.8595 - val_loss: 0.3714 - val_accuracy: 0.8470\n",
      "Epoch 52/100\n",
      "5359/5359 [==============================] - 7s 1ms/step - loss: 0.3411 - accuracy: 0.8586 - val_loss: 0.3710 - val_accuracy: 0.8466\n",
      "Epoch 53/100\n",
      "5359/5359 [==============================] - 7s 1ms/step - loss: 0.3406 - accuracy: 0.8600 - val_loss: 0.3720 - val_accuracy: 0.8470\n",
      "Epoch 54/100\n",
      "5359/5359 [==============================] - 7s 1ms/step - loss: 0.3406 - accuracy: 0.8595 - val_loss: 0.3711 - val_accuracy: 0.8463\n",
      "Epoch 55/100\n",
      "5359/5359 [==============================] - 7s 1ms/step - loss: 0.3401 - accuracy: 0.8597 - val_loss: 0.3712 - val_accuracy: 0.8474\n",
      "Epoch 56/100\n",
      "5359/5359 [==============================] - 7s 1ms/step - loss: 0.3402 - accuracy: 0.8582 - val_loss: 0.3707 - val_accuracy: 0.8482\n",
      "Epoch 57/100\n",
      "5359/5359 [==============================] - 7s 1ms/step - loss: 0.3400 - accuracy: 0.8587 - val_loss: 0.3712 - val_accuracy: 0.8474\n",
      "Epoch 58/100\n",
      "5359/5359 [==============================] - 7s 1ms/step - loss: 0.3398 - accuracy: 0.8593 - val_loss: 0.3715 - val_accuracy: 0.8466\n",
      "Epoch 59/100\n",
      "5359/5359 [==============================] - 7s 1ms/step - loss: 0.3392 - accuracy: 0.8589 - val_loss: 0.3720 - val_accuracy: 0.8463\n",
      "Epoch 60/100\n",
      "5359/5359 [==============================] - 7s 1ms/step - loss: 0.3397 - accuracy: 0.8582 - val_loss: 0.3707 - val_accuracy: 0.8463\n",
      "Epoch 61/100\n",
      "5359/5359 [==============================] - 7s 1ms/step - loss: 0.3392 - accuracy: 0.8604 - val_loss: 0.3698 - val_accuracy: 0.8474\n",
      "Epoch 62/100\n",
      "5359/5359 [==============================] - 7s 1ms/step - loss: 0.3391 - accuracy: 0.8589 - val_loss: 0.3703 - val_accuracy: 0.8459\n",
      "Epoch 63/100\n",
      "5359/5359 [==============================] - 7s 1ms/step - loss: 0.3390 - accuracy: 0.8597 - val_loss: 0.3709 - val_accuracy: 0.8463\n",
      "Epoch 64/100\n",
      "5359/5359 [==============================] - 7s 1ms/step - loss: 0.3390 - accuracy: 0.8599 - val_loss: 0.3694 - val_accuracy: 0.8478\n",
      "Epoch 65/100\n",
      "5359/5359 [==============================] - 7s 1ms/step - loss: 0.3389 - accuracy: 0.8599 - val_loss: 0.3703 - val_accuracy: 0.8444\n",
      "Epoch 66/100\n",
      "5359/5359 [==============================] - 7s 1ms/step - loss: 0.3386 - accuracy: 0.8582 - val_loss: 0.3709 - val_accuracy: 0.8470\n",
      "Epoch 67/100\n",
      "5359/5359 [==============================] - 7s 1ms/step - loss: 0.3384 - accuracy: 0.8578 - val_loss: 0.3692 - val_accuracy: 0.8482\n",
      "Epoch 68/100\n",
      "5359/5359 [==============================] - 7s 1ms/step - loss: 0.3386 - accuracy: 0.8608 - val_loss: 0.3695 - val_accuracy: 0.8455\n",
      "Epoch 69/100\n",
      "5359/5359 [==============================] - 7s 1ms/step - loss: 0.3384 - accuracy: 0.8597 - val_loss: 0.3693 - val_accuracy: 0.8448\n",
      "Epoch 70/100\n",
      "5359/5359 [==============================] - 7s 1ms/step - loss: 0.3382 - accuracy: 0.8606 - val_loss: 0.3687 - val_accuracy: 0.8470\n",
      "Epoch 71/100\n",
      "5359/5359 [==============================] - 7s 1ms/step - loss: 0.3384 - accuracy: 0.8593 - val_loss: 0.3690 - val_accuracy: 0.8451\n",
      "Epoch 72/100\n",
      "5359/5359 [==============================] - 7s 1ms/step - loss: 0.3383 - accuracy: 0.8597 - val_loss: 0.3689 - val_accuracy: 0.8478\n",
      "Epoch 73/100\n",
      "5359/5359 [==============================] - 7s 1ms/step - loss: 0.3378 - accuracy: 0.8612 - val_loss: 0.3687 - val_accuracy: 0.8474\n",
      "Epoch 74/100\n",
      "5359/5359 [==============================] - 7s 1ms/step - loss: 0.3380 - accuracy: 0.8608 - val_loss: 0.3681 - val_accuracy: 0.8463\n",
      "Epoch 75/100\n",
      "5359/5359 [==============================] - 7s 1ms/step - loss: 0.3376 - accuracy: 0.8619 - val_loss: 0.3684 - val_accuracy: 0.8478\n",
      "Epoch 76/100\n",
      "5359/5359 [==============================] - 7s 1ms/step - loss: 0.3380 - accuracy: 0.8612 - val_loss: 0.3684 - val_accuracy: 0.8466\n",
      "Epoch 77/100\n",
      "5359/5359 [==============================] - 7s 1ms/step - loss: 0.3375 - accuracy: 0.8610 - val_loss: 0.3689 - val_accuracy: 0.8459\n",
      "Epoch 78/100\n",
      "5359/5359 [==============================] - 7s 1ms/step - loss: 0.3377 - accuracy: 0.8612 - val_loss: 0.3685 - val_accuracy: 0.8455\n",
      "Epoch 79/100\n",
      "5359/5359 [==============================] - 7s 1ms/step - loss: 0.3375 - accuracy: 0.8617 - val_loss: 0.3684 - val_accuracy: 0.8466\n",
      "Epoch 80/100\n",
      "5359/5359 [==============================] - 7s 1ms/step - loss: 0.3374 - accuracy: 0.8602 - val_loss: 0.3689 - val_accuracy: 0.8466\n",
      "Epoch 81/100\n",
      "5359/5359 [==============================] - 7s 1ms/step - loss: 0.3372 - accuracy: 0.8610 - val_loss: 0.3686 - val_accuracy: 0.8478\n",
      "Epoch 82/100\n",
      "5359/5359 [==============================] - 7s 1ms/step - loss: 0.3372 - accuracy: 0.8604 - val_loss: 0.3691 - val_accuracy: 0.8448\n",
      "Epoch 83/100\n",
      "5359/5359 [==============================] - 7s 1ms/step - loss: 0.3374 - accuracy: 0.8608 - val_loss: 0.3688 - val_accuracy: 0.8451\n",
      "Epoch 84/100\n",
      "5359/5359 [==============================] - 7s 1ms/step - loss: 0.3371 - accuracy: 0.8606 - val_loss: 0.3691 - val_accuracy: 0.8459\n",
      "Epoch 85/100\n",
      "5359/5359 [==============================] - 7s 1ms/step - loss: 0.3370 - accuracy: 0.8614 - val_loss: 0.3691 - val_accuracy: 0.8463\n",
      "Epoch 86/100\n",
      "5359/5359 [==============================] - 7s 1ms/step - loss: 0.3369 - accuracy: 0.8604 - val_loss: 0.3694 - val_accuracy: 0.8455\n",
      "Epoch 87/100\n",
      "5359/5359 [==============================] - 7s 1ms/step - loss: 0.3370 - accuracy: 0.8606 - val_loss: 0.3690 - val_accuracy: 0.8463\n",
      "Epoch 88/100\n",
      "5359/5359 [==============================] - 6s 1ms/step - loss: 0.3367 - accuracy: 0.8602 - val_loss: 0.3696 - val_accuracy: 0.8455\n",
      "Epoch 89/100\n",
      "5359/5359 [==============================] - 7s 1ms/step - loss: 0.3367 - accuracy: 0.8610 - val_loss: 0.3696 - val_accuracy: 0.8448\n",
      "Epoch 90/100\n",
      "5359/5359 [==============================] - 7s 1ms/step - loss: 0.3366 - accuracy: 0.8610 - val_loss: 0.3691 - val_accuracy: 0.8459\n",
      "Epoch 91/100\n",
      "5359/5359 [==============================] - 7s 1ms/step - loss: 0.3365 - accuracy: 0.8610 - val_loss: 0.3698 - val_accuracy: 0.8444\n",
      "Epoch 92/100\n",
      "5359/5359 [==============================] - 7s 1ms/step - loss: 0.3363 - accuracy: 0.8606 - val_loss: 0.3703 - val_accuracy: 0.8444\n",
      "Epoch 93/100\n",
      "5359/5359 [==============================] - 7s 1ms/step - loss: 0.3365 - accuracy: 0.8606 - val_loss: 0.3692 - val_accuracy: 0.8470\n",
      "Epoch 94/100\n",
      "5359/5359 [==============================] - 7s 1ms/step - loss: 0.3363 - accuracy: 0.8610 - val_loss: 0.3697 - val_accuracy: 0.8459\n",
      "Epoch 95/100\n",
      "5359/5359 [==============================] - 7s 1ms/step - loss: 0.3364 - accuracy: 0.8591 - val_loss: 0.3692 - val_accuracy: 0.8455\n",
      "Epoch 96/100\n",
      "5359/5359 [==============================] - 7s 1ms/step - loss: 0.3361 - accuracy: 0.8606 - val_loss: 0.3699 - val_accuracy: 0.8448\n",
      "Epoch 97/100\n",
      "5359/5359 [==============================] - 7s 1ms/step - loss: 0.3362 - accuracy: 0.8612 - val_loss: 0.3709 - val_accuracy: 0.8432\n",
      "Epoch 98/100\n",
      "5359/5359 [==============================] - 7s 1ms/step - loss: 0.3362 - accuracy: 0.8614 - val_loss: 0.3699 - val_accuracy: 0.8455\n",
      "Epoch 99/100\n",
      "5359/5359 [==============================] - 7s 1ms/step - loss: 0.3358 - accuracy: 0.8617 - val_loss: 0.3718 - val_accuracy: 0.8417\n",
      "Epoch 100/100\n",
      "5359/5359 [==============================] - 7s 1ms/step - loss: 0.3359 - accuracy: 0.8604 - val_loss: 0.3692 - val_accuracy: 0.8482\n"
     ]
    }
   ],
   "source": [
    "model_history=classifier.fit(X_train, y_train,validation_split=0.33, batch_size = 10, nb_epoch = 100)"
   ]
  },
  {
   "cell_type": "markdown",
   "metadata": {},
   "source": [
    "# history of loss"
   ]
  },
  {
   "cell_type": "code",
   "execution_count": 15,
   "metadata": {},
   "outputs": [
    {
     "data": {
      "image/png": "[encoded data removed]",
      "text/plain": [
       "<Figure size 432x288 with 1 Axes>"
      ]
     },
     "metadata": {
      "needs_background": "light"
     },
     "output_type": "display_data"
    }
   ],
   "source": [
    "plt.plot(model_history.history['loss'])\n",
    "plt.plot(model_history.history['val_loss'])\n",
    "plt.title('model loss')\n",
    "plt.ylabel('loss')\n",
    "plt.xlabel('epoch')\n",
    "plt.legend(['train', 'test'], loc='upper left')\n",
    "plt.show()"
   ]
  },
  {
   "cell_type": "markdown",
   "metadata": {},
   "source": [
    "# prediction for the test"
   ]
  },
  {
   "cell_type": "code",
   "execution_count": 16,
   "metadata": {},
   "outputs": [],
   "source": [
    "y_pred = classifier.predict(X_test)\n",
    "y_pred = (y_pred > 0.5)"
   ]
  },
  {
   "cell_type": "markdown",
   "metadata": {},
   "source": [
    "# now creating a confusion matrix"
   ]
  },
  {
   "cell_type": "code",
   "execution_count": 24,
   "metadata": {},
   "outputs": [],
   "source": [
    "from sklearn.metrics import confusion_matrix\n",
    "cm = confusion_matrix(y_test, y_pred)"
   ]
  },
  {
   "cell_type": "markdown",
   "metadata": {},
   "source": [
    "# now finally creating the accuracy"
   ]
  },
  {
   "cell_type": "code",
   "execution_count": 18,
   "metadata": {},
   "outputs": [],
   "source": [
    "from sklearn.metrics import accuracy_score\n",
    "score=accuracy_score(y_pred,y_test)"
   ]
  },
  {
   "cell_type": "code",
   "execution_count": 19,
   "metadata": {},
   "outputs": [
    {
     "data": {
      "text/plain": [
       "array([[1533,   62],\n",
       "       [ 214,  191]], dtype=int64)"
      ]
     },
     "execution_count": 19,
     "metadata": {},
     "output_type": "execute_result"
    }
   ],
   "source": [
    "cm"
   ]
  },
  {
   "cell_type": "code",
   "execution_count": 20,
   "metadata": {},
   "outputs": [
    {
     "data": {
      "text/plain": [
       "0.862"
      ]
     },
     "execution_count": 20,
     "metadata": {},
     "output_type": "execute_result"
    }
   ],
   "source": [
    "score"
   ]
  },
  {
   "cell_type": "code",
   "execution_count": null,
   "metadata": {},
   "outputs": [],
   "source": []
  }
 ],
 "metadata": {
  "kernelspec": {
   "display_name": "Python 3",
   "language": "python",
   "name": "python3"
  },
  "language_info": {
   "codemirror_mode": {
    "name": "ipython",
    "version": 3
   },
   "file_extension": ".py",
   "mimetype": "text/x-python",
   "name": "python",
   "nbconvert_exporter": "python",
   "pygments_lexer": "ipython3",
   "version": "3.7.7"
  }
 },
 "nbformat": 4,
 "nbformat_minor": 4
}
